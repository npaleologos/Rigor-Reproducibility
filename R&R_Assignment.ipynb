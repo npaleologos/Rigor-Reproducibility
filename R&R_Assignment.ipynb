{
  "nbformat": 4,
  "nbformat_minor": 0,
  "metadata": {
    "colab": {
      "provenance": [],
      "toc_visible": true,
      "authorship_tag": "ABX9TyMdEqlqTEs8fmT32fdZ4gt7",
      "include_colab_link": true
    },
    "kernelspec": {
      "name": "python3",
      "display_name": "Python 3"
    },
    "language_info": {
      "name": "python"
    }
  },
  "cells": [
    {
      "cell_type": "markdown",
      "metadata": {
        "id": "view-in-github",
        "colab_type": "text"
      },
      "source": [
        "<a href=\"https://colab.research.google.com/github/npaleologos/Rigor-Reproducibility/blob/main/R%26R_Assignment.ipynb\" target=\"_parent\"><img src=\"https://colab.research.google.com/assets/colab-badge.svg\" alt=\"Open In Colab\"/></a>"
      ]
    },
    {
      "cell_type": "code",
      "execution_count": null,
      "metadata": {
        "colab": {
          "base_uri": "https://localhost:8080/"
        },
        "id": "XBR4NF0EVzrC",
        "outputId": "2caeb73d-cde2-498f-a67d-095b0630d578"
      },
      "outputs": [
        {
          "output_type": "stream",
          "name": "stdout",
          "text": [
            "Current date and time: 2024-10-30 16:55:55.643966\n",
            "Arithmetic result: 10\n"
          ]
        }
      ],
      "source": [
        "import datetime\n",
        "\n",
        "# Get the current date and time\n",
        "now = datetime.datetime.now()\n",
        "\n",
        "print(\"Current date and time:\", now)\n",
        "\n",
        "math = 5 * 2\n",
        "print(\"Arithmetic result:\", math)"
      ]
    },
    {
      "cell_type": "markdown",
      "source": [
        "Using tools like GitHub for version control and publishing makes a huge difference in computational research, especially when it comes to reproducibility. Repositories provide a centralized, organized space where you can store all parts of your project—from code to data and documentation—so nothing gets misplaced or mixed up. This organization is essential for ensuring that others can follow your work exactly as you did.\n",
        "\n",
        "Version control is also invaluable. It allows you to track every single change in the project, so if something breaks or a result changes, you can go back to an earlier version and figure out what happened. This history of changes shows the full process, making it easy to see how a project evolved, which is key for anyone trying to reproduce or understand your results.\n",
        "\n",
        "Publishing on a platform like GitHub takes it a step further by making your code accessible to others. Not only can they reproduce your results, but they can also learn from or expand on your work. Features like issue tracking add another layer by letting you record and resolve any problems directly in the project, keeping everything transparent.\n",
        "\n",
        "Overall, tools like GitHub aren’t just about managing files—they help create a clear, shareable record of your work, which is the foundation of reproducible research."
      ],
      "metadata": {
        "id": "0XTMgvcnW2La"
      }
    }
  ]
}